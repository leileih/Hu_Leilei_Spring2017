{
 "cells": [
  {
   "cell_type": "markdown",
   "metadata": {},
   "source": [
    "## Use NYT API to collect NYT data. Perform 3 analysis on the collected data.\n",
    "Anal3: find person mentioned in keyword and find the most frequently mentioned 50 people."
   ]
  },
  {
   "cell_type": "code",
   "execution_count": 39,
   "metadata": {
    "collapsed": true
   },
   "outputs": [],
   "source": [
    "import glob\n",
    "import string\n",
    "import os\n",
    "import json\n",
    "from pathlib import Path\n",
    "from collections import Counter"
   ]
  },
  {
   "cell_type": "code",
   "execution_count": 40,
   "metadata": {
    "collapsed": true
   },
   "outputs": [],
   "source": [
    "p = Path(os.getcwd())\n",
    "path = str(p.parent) + '/data/article_search/*.txt'\n",
    "files = glob.glob(path)"
   ]
  },
  {
   "cell_type": "code",
   "execution_count": 41,
   "metadata": {
    "collapsed": false
   },
   "outputs": [],
   "source": [
    "people_in_Keyword = {}\n",
    "for file in files:\n",
    "    with open(file, 'r', encoding='utf-8', errors='ignore') as f:\n",
    "        python_data = json.load(f)\n",
    "        docs = python_data['response']['docs']\n",
    "        for doc in docs:\n",
    "            if 'keywords' in doc:\n",
    "                keywords = doc['keywords']\n",
    "                for key in keywords:\n",
    "                    if key['name'] == 'persons':\n",
    "                        person_name = key['value']\n",
    "                        if person_name in people_in_Keyword:\n",
    "                            people_in_Keyword[person_name] +=1\n",
    "                        else:\n",
    "                            people_in_Keyword[person_name] = 1\n",
    "sorted_people_in_Keyword= sorted(people_in_Keyword.items(), key=lambda d:d[1], reverse = True)                \n",
    "#print(sorted_people_in_Keyword)"
   ]
  },
  {
   "cell_type": "code",
   "execution_count": 42,
   "metadata": {
    "collapsed": false
   },
   "outputs": [],
   "source": [
    "import csv\n",
    "output_path = 'anal3Output/person_count.csv'\n",
    "with open(output_path, 'w') as outcsv:\n",
    "    writer = csv.DictWriter(outcsv, fieldnames = [\"PERSON\",\"TIMES_OF_MENTIONED\"])\n",
    "    writer.writeheader()\n",
    "    for key,value in sorted_people_in_Keyword:\n",
    "        writer.writerow({'PERSON': key,'TIMES_OF_MENTIONED': value})"
   ]
  },
  {
   "cell_type": "code",
   "execution_count": null,
   "metadata": {
    "collapsed": true
   },
   "outputs": [],
   "source": []
  },
  {
   "cell_type": "code",
   "execution_count": null,
   "metadata": {
    "collapsed": true
   },
   "outputs": [],
   "source": []
  },
  {
   "cell_type": "code",
   "execution_count": null,
   "metadata": {
    "collapsed": true
   },
   "outputs": [],
   "source": []
  },
  {
   "cell_type": "code",
   "execution_count": null,
   "metadata": {
    "collapsed": true
   },
   "outputs": [],
   "source": []
  },
  {
   "cell_type": "code",
   "execution_count": null,
   "metadata": {
    "collapsed": true
   },
   "outputs": [],
   "source": []
  },
  {
   "cell_type": "code",
   "execution_count": null,
   "metadata": {
    "collapsed": true
   },
   "outputs": [],
   "source": []
  },
  {
   "cell_type": "code",
   "execution_count": null,
   "metadata": {
    "collapsed": true
   },
   "outputs": [],
   "source": []
  },
  {
   "cell_type": "code",
   "execution_count": null,
   "metadata": {
    "collapsed": true
   },
   "outputs": [],
   "source": []
  }
 ],
 "metadata": {
  "anaconda-cloud": {},
  "kernelspec": {
   "display_name": "Python [conda root]",
   "language": "python",
   "name": "conda-root-py"
  },
  "language_info": {
   "codemirror_mode": {
    "name": "ipython",
    "version": 3
   },
   "file_extension": ".py",
   "mimetype": "text/x-python",
   "name": "python",
   "nbconvert_exporter": "python",
   "pygments_lexer": "ipython3",
   "version": "3.5.2"
  }
 },
 "nbformat": 4,
 "nbformat_minor": 1
}
