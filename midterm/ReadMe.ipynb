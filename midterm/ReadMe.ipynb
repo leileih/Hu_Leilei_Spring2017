{
 "cells": [
  {
   "cell_type": "markdown",
   "metadata": {},
   "source": [
    "## Midterm Report\n",
    "- Question 1\n",
    "    - Analysis 1\n",
    "        - In this part, I use data in folder 'enron/maildir/skilling-j/sent' to find out who are Skilling most frequently sent email to. Result is wrote into a csv file. However, It's surprising that he has a very little contact list. Maybe it's because of the dataset has been filtered. \n",
    "    - Analysis 2\n",
    "        - In this part, I use data in '/enron/maildir/*/sent_items/' to clean up date of emails sent and count the numbers of each date. Output(date, fequency) is wrote into a csv file and shows the fequency descendingly.\n",
    "    - Analysis 3\n",
    "        - In this part, I use data in '/enron/maildir/*/sent_items/' to find top 50 words used frequently in emails without stop words.\n",
    "##  \n",
    "- Question 2\n",
    "    - Data request\n",
    "        - download data using Article_Search and Archive api from NYT whih request method. And store them under '~/data/'\n",
    "    - Analysis 1\n",
    "        - In this part, I use archive data from 2015-2016 to count top 50 word frequently used in abstracts\n",
    "    - Analysis 2\n",
    "        - Use data in '/data/article_search/*.txt' to find how many types of keywords and count the number of each type\n",
    "    - Analysis 3\n",
    "        - Use data in '/data/article_search/*.txt' to find person mentioned in keyword and find the most frequently mentioned 50 people"
   ]
  },
  {
   "cell_type": "code",
   "execution_count": null,
   "metadata": {
    "collapsed": true
   },
   "outputs": [],
   "source": []
  }
 ],
 "metadata": {
  "anaconda-cloud": {},
  "kernelspec": {
   "display_name": "Python [conda root]",
   "language": "python",
   "name": "conda-root-py"
  },
  "language_info": {
   "codemirror_mode": {
    "name": "ipython",
    "version": 3
   },
   "file_extension": ".py",
   "mimetype": "text/x-python",
   "name": "python",
   "nbconvert_exporter": "python",
   "pygments_lexer": "ipython3",
   "version": "3.5.2"
  }
 },
 "nbformat": 4,
 "nbformat_minor": 1
}
