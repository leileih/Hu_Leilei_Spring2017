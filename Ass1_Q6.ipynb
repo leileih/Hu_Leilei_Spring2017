{
 "cells": [
  {
   "cell_type": "markdown",
   "metadata": {},
   "source": [
    "## Question 6\n",
    "Under Inaugural Address package\n",
    "For every president, find out how many unique words they used in speech. \n",
    "We will just assume that President Bush means one person (technically it is incorrect but we will ignore it)\n",
    "- Should get 34 results."
   ]
  },
  {
   "cell_type": "code",
   "execution_count": 28,
   "metadata": {
    "collapsed": true
   },
   "outputs": [],
   "source": [
    "import nltk"
   ]
  },
  {
   "cell_type": "code",
   "execution_count": 29,
   "metadata": {
    "collapsed": false
   },
   "outputs": [],
   "source": [
    "lists = nltk.corpus.inaugural.fileids()\n",
    "#lists"
   ]
  },
  {
   "cell_type": "code",
   "execution_count": 30,
   "metadata": {
    "collapsed": false
   },
   "outputs": [
    {
     "name": "stdout",
     "output_type": "stream",
     "text": [
      "Hayes\n",
      "832\n",
      "Harding\n",
      "1170\n",
      "Harrison\n",
      "2662\n",
      "Johnson\n",
      "571\n",
      "Roosevelt\n",
      "1704\n",
      "Kennedy\n",
      "570\n",
      "Monroe\n",
      "1781\n",
      "Madison\n",
      "899\n",
      "Lincoln\n",
      "1261\n",
      "Eisenhower\n",
      "1250\n",
      "VanBuren\n",
      "1318\n",
      "Taylor\n",
      "499\n",
      "Jefferson\n",
      "1261\n",
      "Cleveland\n",
      "1219\n",
      "Pierce\n",
      "1168\n",
      "Grant\n",
      "855\n",
      "Polk\n",
      "1333\n",
      "Buchanan\n",
      "948\n",
      "Reagan\n",
      "1453\n",
      "Clinton\n",
      "1138\n",
      "Truman\n",
      "781\n",
      "McKinley\n",
      "1682\n",
      "Bush\n",
      "1578\n",
      "Hoover\n",
      "1087\n",
      "Obama\n",
      "938\n",
      "Jackson\n",
      "846\n",
      "Garfield\n",
      "1022\n",
      "Washington\n",
      "663\n",
      "Nixon\n",
      "1037\n",
      "Coolidge\n",
      "1221\n",
      "Taft\n",
      "1439\n",
      "Wilson\n",
      "996\n",
      "Carter\n",
      "529\n",
      "Adams\n",
      "1503\n"
     ]
    }
   ],
   "source": [
    "presidents = {}\n",
    "for names in lists:\n",
    "    name = names[5:-4]\n",
    "    if name in presidents:\n",
    "        nameList = list(nltk.corpus.inaugural.words(names))\n",
    "        presidents[name].extend(nameList)\n",
    "    else:\n",
    "        nameList = list(nltk.corpus.inaugural.words(names))\n",
    "        presidents[name] = nameList\n",
    "\n",
    "for key in presidents.keys():\n",
    "    print(key)\n",
    "    print(len(set(presidents[key])))"
   ]
  },
  {
   "cell_type": "code",
   "execution_count": null,
   "metadata": {
    "collapsed": true
   },
   "outputs": [],
   "source": []
  },
  {
   "cell_type": "code",
   "execution_count": null,
   "metadata": {
    "collapsed": true
   },
   "outputs": [],
   "source": []
  },
  {
   "cell_type": "code",
   "execution_count": null,
   "metadata": {
    "collapsed": true
   },
   "outputs": [],
   "source": []
  },
  {
   "cell_type": "code",
   "execution_count": null,
   "metadata": {
    "collapsed": true
   },
   "outputs": [],
   "source": []
  },
  {
   "cell_type": "code",
   "execution_count": null,
   "metadata": {
    "collapsed": true
   },
   "outputs": [],
   "source": []
  },
  {
   "cell_type": "code",
   "execution_count": null,
   "metadata": {
    "collapsed": true
   },
   "outputs": [],
   "source": []
  },
  {
   "cell_type": "code",
   "execution_count": null,
   "metadata": {
    "collapsed": true
   },
   "outputs": [],
   "source": []
  },
  {
   "cell_type": "code",
   "execution_count": null,
   "metadata": {
    "collapsed": true
   },
   "outputs": [],
   "source": []
  },
  {
   "cell_type": "code",
   "execution_count": null,
   "metadata": {
    "collapsed": true
   },
   "outputs": [],
   "source": []
  }
 ],
 "metadata": {
  "kernelspec": {
   "display_name": "Python [conda root]",
   "language": "python",
   "name": "conda-root-py"
  },
  "language_info": {
   "codemirror_mode": {
    "name": "ipython",
    "version": 3
   },
   "file_extension": ".py",
   "mimetype": "text/x-python",
   "name": "python",
   "nbconvert_exporter": "python",
   "pygments_lexer": "ipython3",
   "version": "3.5.2"
  }
 },
 "nbformat": 4,
 "nbformat_minor": 1
}
