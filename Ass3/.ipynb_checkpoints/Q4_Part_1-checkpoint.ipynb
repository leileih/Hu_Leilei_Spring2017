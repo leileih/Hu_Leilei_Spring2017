{
 "cells": [
  {
   "cell_type": "markdown",
   "metadata": {},
   "source": [
    "# Question 4 Part 1\n",
    "- Use ‘movies_awards’ data set\n",
    "- You are supposed to extract data from the awards column in this dataset and split it into several columns. An example is given below\n",
    "- The awards has details of wins, nominations in general and also wins and nominations in certain categories(e.g. Oscar, BAFTA etc.)\n",
    "- You are supposed to create a win and nominated column (these 2 columns contain total number of wins and nominations) and other columns that extract the number of wins and nominations for each category of award\n",
    "- If a movie has 2 Oscar nominations and 4 Oscar won, the columns Oscar_Awards_Won should have value 4 and Oscar_Awards_Nominated should have value 2. You should also have a total won and nominated column which aggregates all the awards (won or nominated)\n",
    "- Create two separate columns for each award category (won and nominated)\n",
    "- Write your output to a csv file"
   ]
  },
  {
   "cell_type": "code",
   "execution_count": 89,
   "metadata": {
    "collapsed": true
   },
   "outputs": [],
   "source": [
    "import pandas as pd\n",
    "import re "
   ]
  },
  {
   "cell_type": "code",
   "execution_count": 90,
   "metadata": {
    "collapsed": false
   },
   "outputs": [
    {
     "data": {
      "text/html": [
       "<div>\n",
       "<table border=\"1\" class=\"dataframe\">\n",
       "  <thead>\n",
       "    <tr style=\"text-align: right;\">\n",
       "      <th></th>\n",
       "      <th>imdbID</th>\n",
       "      <th>Title</th>\n",
       "      <th>Awards</th>\n",
       "    </tr>\n",
       "  </thead>\n",
       "  <tbody>\n",
       "    <tr>\n",
       "      <th>3</th>\n",
       "      <td>tt0210930</td>\n",
       "      <td>Who Are You?</td>\n",
       "      <td>1 win &amp; 2 nominations.</td>\n",
       "    </tr>\n",
       "    <tr>\n",
       "      <th>4</th>\n",
       "      <td>tt0212513</td>\n",
       "      <td>Skeletons in the Closet</td>\n",
       "      <td>1 win.</td>\n",
       "    </tr>\n",
       "    <tr>\n",
       "      <th>5</th>\n",
       "      <td>tt0235280</td>\n",
       "      <td>Cheerleader Ninjas</td>\n",
       "      <td>1 nomination.</td>\n",
       "    </tr>\n",
       "  </tbody>\n",
       "</table>\n",
       "</div>"
      ],
      "text/plain": [
       "      imdbID                    Title                  Awards\n",
       "3  tt0210930             Who Are You?  1 win & 2 nominations.\n",
       "4  tt0212513  Skeletons in the Closet                  1 win.\n",
       "5  tt0235280       Cheerleader Ninjas           1 nomination."
      ]
     },
     "execution_count": 90,
     "metadata": {},
     "output_type": "execute_result"
    }
   ],
   "source": [
    "# select needed columns and drop NaNs\n",
    "df = pd.read_csv('Data/movies_awards.csv')\n",
    "cols = ['imdbID', 'Title', 'Awards']\n",
    "df = df[cols]  # select columns and then drop NaNs from these columns\n",
    "df = df.dropna()\n",
    "df.head(3)"
   ]
  },
  {
   "cell_type": "code",
   "execution_count": 91,
   "metadata": {
    "collapsed": true
   },
   "outputs": [],
   "source": [
    "# find number of named wins. Like Oscar'...\n",
    "def find_named_wins(name, row):\n",
    "    pattern = r'Won (\\d+) '+name\n",
    "    nums = re.findall(pattern, row)\n",
    "    if len(nums)>0:\n",
    "        return nums[0]\n",
    "    else:\n",
    "        return '0'"
   ]
  },
  {
   "cell_type": "code",
   "execution_count": 92,
   "metadata": {
    "collapsed": true
   },
   "outputs": [],
   "source": [
    "# find number of named Nominations. Like 'Oscar'...\n",
    "def find_named_Nominated(name, row):\n",
    "    pattern = r'Nominated for (\\d+) '+name\n",
    "    nums = re.findall(pattern, row)\n",
    "    if len(nums)>0:\n",
    "        return nums[0]\n",
    "    else:\n",
    "        return '0'"
   ]
  },
  {
   "cell_type": "code",
   "execution_count": 93,
   "metadata": {
    "collapsed": true
   },
   "outputs": [],
   "source": [
    "# find number of total wins. \n",
    "def find_all_wins(row):\n",
    "    pattern = r'(\\d+) win'\n",
    "    named_wins = int(row['Oscar_Won'])+int(row['Prime_Won'])+int(row['Golden_Globe_Won'])+int(row['BAFTA_Won'])\n",
    "    nums = re.findall(pattern, row['Awards'])\n",
    "    if len(nums)>0:\n",
    "        return int(nums[0])+named_wins\n",
    "    else:\n",
    "        return named_wins"
   ]
  },
  {
   "cell_type": "code",
   "execution_count": 94,
   "metadata": {
    "collapsed": true
   },
   "outputs": [],
   "source": [
    "# get total of nominations. total = other_nominations + Oscar_nominations + Prime_nominations + ...\n",
    "def find_all_Nominated(row):\n",
    "    pattern = r'(\\d+) nomination'\n",
    "    named_Nominated = int(row['Prime_Nominated'])+int(row['Oscar_Nominated'])+int(row['Golden_Globe_Nominated'])+int(row['BAFTA_Nominated'])\n",
    "    nums = re.findall(pattern, row['Awards'])\n",
    "    if len(nums)>0:\n",
    "        return int(nums[0])+named_Nominated\n",
    "    else:\n",
    "        return named_Nominated"
   ]
  },
  {
   "cell_type": "code",
   "execution_count": 95,
   "metadata": {
    "collapsed": false
   },
   "outputs": [
    {
     "data": {
      "text/html": [
       "<div>\n",
       "<table border=\"1\" class=\"dataframe\">\n",
       "  <thead>\n",
       "    <tr style=\"text-align: right;\">\n",
       "      <th></th>\n",
       "      <th>imdbID</th>\n",
       "      <th>Title</th>\n",
       "      <th>Awards</th>\n",
       "      <th>Oscar_Won</th>\n",
       "      <th>Prime_Won</th>\n",
       "      <th>Golden_Globe_Won</th>\n",
       "      <th>BAFTA_Won</th>\n",
       "    </tr>\n",
       "  </thead>\n",
       "  <tbody>\n",
       "    <tr>\n",
       "      <th>3</th>\n",
       "      <td>tt0210930</td>\n",
       "      <td>Who Are You?</td>\n",
       "      <td>1 win &amp; 2 nominations.</td>\n",
       "      <td>0</td>\n",
       "      <td>0</td>\n",
       "      <td>0</td>\n",
       "      <td>0</td>\n",
       "    </tr>\n",
       "    <tr>\n",
       "      <th>4</th>\n",
       "      <td>tt0212513</td>\n",
       "      <td>Skeletons in the Closet</td>\n",
       "      <td>1 win.</td>\n",
       "      <td>0</td>\n",
       "      <td>0</td>\n",
       "      <td>0</td>\n",
       "      <td>0</td>\n",
       "    </tr>\n",
       "    <tr>\n",
       "      <th>5</th>\n",
       "      <td>tt0235280</td>\n",
       "      <td>Cheerleader Ninjas</td>\n",
       "      <td>1 nomination.</td>\n",
       "      <td>0</td>\n",
       "      <td>0</td>\n",
       "      <td>0</td>\n",
       "      <td>0</td>\n",
       "    </tr>\n",
       "  </tbody>\n",
       "</table>\n",
       "</div>"
      ],
      "text/plain": [
       "      imdbID                    Title                  Awards Oscar_Won  \\\n",
       "3  tt0210930             Who Are You?  1 win & 2 nominations.         0   \n",
       "4  tt0212513  Skeletons in the Closet                  1 win.         0   \n",
       "5  tt0235280       Cheerleader Ninjas           1 nomination.         0   \n",
       "\n",
       "  Prime_Won Golden_Globe_Won BAFTA_Won  \n",
       "3         0                0         0  \n",
       "4         0                0         0  \n",
       "5         0                0         0  "
      ]
     },
     "execution_count": 95,
     "metadata": {},
     "output_type": "execute_result"
    }
   ],
   "source": [
    "df['Oscar_Won'] = df.apply(lambda row: find_named_wins('Oscar', row['Awards']), axis=1)\n",
    "df['Prime_Won'] = df.apply(lambda row: find_named_wins('Prime', row['Awards']), axis=1)\n",
    "df['Golden_Globe_Won'] = df.apply(lambda row: find_named_wins('Golden', row['Awards']), axis=1)\n",
    "df['BAFTA_Won'] = df.apply(lambda row: find_named_wins('BAFTA', row['Awards']), axis=1)\n",
    "df.head(3)"
   ]
  },
  {
   "cell_type": "code",
   "execution_count": 96,
   "metadata": {
    "collapsed": false
   },
   "outputs": [
    {
     "data": {
      "text/html": [
       "<div>\n",
       "<table border=\"1\" class=\"dataframe\">\n",
       "  <thead>\n",
       "    <tr style=\"text-align: right;\">\n",
       "      <th></th>\n",
       "      <th>imdbID</th>\n",
       "      <th>Title</th>\n",
       "      <th>Awards</th>\n",
       "      <th>Oscar_Won</th>\n",
       "      <th>Prime_Won</th>\n",
       "      <th>Golden_Globe_Won</th>\n",
       "      <th>BAFTA_Won</th>\n",
       "      <th>Prime_Nominated</th>\n",
       "      <th>Oscar_Nominated</th>\n",
       "      <th>Golden_Globe_Nominated</th>\n",
       "      <th>BAFTA_Nominated</th>\n",
       "    </tr>\n",
       "  </thead>\n",
       "  <tbody>\n",
       "    <tr>\n",
       "      <th>3</th>\n",
       "      <td>tt0210930</td>\n",
       "      <td>Who Are You?</td>\n",
       "      <td>1 win &amp; 2 nominations.</td>\n",
       "      <td>0</td>\n",
       "      <td>0</td>\n",
       "      <td>0</td>\n",
       "      <td>0</td>\n",
       "      <td>0</td>\n",
       "      <td>0</td>\n",
       "      <td>0</td>\n",
       "      <td>0</td>\n",
       "    </tr>\n",
       "    <tr>\n",
       "      <th>4</th>\n",
       "      <td>tt0212513</td>\n",
       "      <td>Skeletons in the Closet</td>\n",
       "      <td>1 win.</td>\n",
       "      <td>0</td>\n",
       "      <td>0</td>\n",
       "      <td>0</td>\n",
       "      <td>0</td>\n",
       "      <td>0</td>\n",
       "      <td>0</td>\n",
       "      <td>0</td>\n",
       "      <td>0</td>\n",
       "    </tr>\n",
       "    <tr>\n",
       "      <th>5</th>\n",
       "      <td>tt0235280</td>\n",
       "      <td>Cheerleader Ninjas</td>\n",
       "      <td>1 nomination.</td>\n",
       "      <td>0</td>\n",
       "      <td>0</td>\n",
       "      <td>0</td>\n",
       "      <td>0</td>\n",
       "      <td>0</td>\n",
       "      <td>0</td>\n",
       "      <td>0</td>\n",
       "      <td>0</td>\n",
       "    </tr>\n",
       "  </tbody>\n",
       "</table>\n",
       "</div>"
      ],
      "text/plain": [
       "      imdbID                    Title                  Awards Oscar_Won  \\\n",
       "3  tt0210930             Who Are You?  1 win & 2 nominations.         0   \n",
       "4  tt0212513  Skeletons in the Closet                  1 win.         0   \n",
       "5  tt0235280       Cheerleader Ninjas           1 nomination.         0   \n",
       "\n",
       "  Prime_Won Golden_Globe_Won BAFTA_Won Prime_Nominated Oscar_Nominated  \\\n",
       "3         0                0         0               0               0   \n",
       "4         0                0         0               0               0   \n",
       "5         0                0         0               0               0   \n",
       "\n",
       "  Golden_Globe_Nominated BAFTA_Nominated  \n",
       "3                      0               0  \n",
       "4                      0               0  \n",
       "5                      0               0  "
      ]
     },
     "execution_count": 96,
     "metadata": {},
     "output_type": "execute_result"
    }
   ],
   "source": [
    "df['Prime_Nominated'] = df.apply(lambda row: find_named_Nominated('Prime', row['Awards']), axis=1)\n",
    "df['Oscar_Nominated'] = df.apply(lambda row: find_named_Nominated('Oscar', row['Awards']), axis=1)\n",
    "df['Golden_Globe_Nominated'] = df.apply(lambda row: find_named_Nominated('Golden', row['Awards']), axis=1)\n",
    "df['BAFTA_Nominated'] = df.apply(lambda row: find_named_Nominated('BAFTA', row['Awards']), axis=1)\n",
    "df.head(3)"
   ]
  },
  {
   "cell_type": "code",
   "execution_count": 97,
   "metadata": {
    "collapsed": false
   },
   "outputs": [],
   "source": [
    "# After caculated Special wins and nominations, add those to total wins and nominations\n",
    "df['Awards_won'] = df.apply(find_all_wins, axis=1)"
   ]
  },
  {
   "cell_type": "code",
   "execution_count": 98,
   "metadata": {
    "collapsed": false
   },
   "outputs": [
    {
     "data": {
      "text/html": [
       "<div>\n",
       "<table border=\"1\" class=\"dataframe\">\n",
       "  <thead>\n",
       "    <tr style=\"text-align: right;\">\n",
       "      <th></th>\n",
       "      <th>imdbID</th>\n",
       "      <th>Title</th>\n",
       "      <th>Awards</th>\n",
       "      <th>Awards_won</th>\n",
       "      <th>Awards_Nominated</th>\n",
       "      <th>Oscar_Won</th>\n",
       "      <th>Prime_Won</th>\n",
       "      <th>Golden_Globe_Won</th>\n",
       "      <th>BAFTA_Won</th>\n",
       "      <th>Prime_Nominated</th>\n",
       "      <th>Oscar_Nominated</th>\n",
       "      <th>Golden_Globe_Nominated</th>\n",
       "      <th>BAFTA_Nominated</th>\n",
       "    </tr>\n",
       "  </thead>\n",
       "  <tbody>\n",
       "    <tr>\n",
       "      <th>3</th>\n",
       "      <td>tt0210930</td>\n",
       "      <td>Who Are You?</td>\n",
       "      <td>1 win &amp; 2 nominations.</td>\n",
       "      <td>0</td>\n",
       "      <td>2</td>\n",
       "      <td>0</td>\n",
       "      <td>0</td>\n",
       "      <td>0</td>\n",
       "      <td>0</td>\n",
       "      <td>0</td>\n",
       "      <td>0</td>\n",
       "      <td>0</td>\n",
       "      <td>0</td>\n",
       "    </tr>\n",
       "    <tr>\n",
       "      <th>4</th>\n",
       "      <td>tt0212513</td>\n",
       "      <td>Skeletons in the Closet</td>\n",
       "      <td>1 win.</td>\n",
       "      <td>0</td>\n",
       "      <td>0</td>\n",
       "      <td>0</td>\n",
       "      <td>0</td>\n",
       "      <td>0</td>\n",
       "      <td>0</td>\n",
       "      <td>0</td>\n",
       "      <td>0</td>\n",
       "      <td>0</td>\n",
       "      <td>0</td>\n",
       "    </tr>\n",
       "    <tr>\n",
       "      <th>5</th>\n",
       "      <td>tt0235280</td>\n",
       "      <td>Cheerleader Ninjas</td>\n",
       "      <td>1 nomination.</td>\n",
       "      <td>0</td>\n",
       "      <td>0</td>\n",
       "      <td>0</td>\n",
       "      <td>0</td>\n",
       "      <td>0</td>\n",
       "      <td>0</td>\n",
       "      <td>0</td>\n",
       "      <td>0</td>\n",
       "      <td>0</td>\n",
       "      <td>0</td>\n",
       "    </tr>\n",
       "  </tbody>\n",
       "</table>\n",
       "</div>"
      ],
      "text/plain": [
       "      imdbID                    Title                  Awards  Awards_won  \\\n",
       "3  tt0210930             Who Are You?  1 win & 2 nominations.           0   \n",
       "4  tt0212513  Skeletons in the Closet                  1 win.           0   \n",
       "5  tt0235280       Cheerleader Ninjas           1 nomination.           0   \n",
       "\n",
       "   Awards_Nominated Oscar_Won Prime_Won Golden_Globe_Won BAFTA_Won  \\\n",
       "3                 2         0         0                0         0   \n",
       "4                 0         0         0                0         0   \n",
       "5                 0         0         0                0         0   \n",
       "\n",
       "  Prime_Nominated Oscar_Nominated Golden_Globe_Nominated BAFTA_Nominated  \n",
       "3               0               0                      0               0  \n",
       "4               0               0                      0               0  \n",
       "5               0               0                      0               0  "
      ]
     },
     "execution_count": 98,
     "metadata": {},
     "output_type": "execute_result"
    }
   ],
   "source": [
    "df['Awards_Nominated'] = df.apply(find_all_Nominated, axis=1)\n",
    "cols = df.columns.tolist()\n",
    "cols = cols[0:3] + cols[-2:] + cols[3:-2]\n",
    "df = df[cols]\n",
    "#df.head(3)"
   ]
  },
  {
   "cell_type": "code",
   "execution_count": 100,
   "metadata": {
    "collapsed": false
   },
   "outputs": [
    {
     "name": "stdout",
     "output_type": "stream",
     "text": [
      "      imdbID                    Title                  Awards  Awards_won  \\\n",
      "3  tt0210930             Who Are You?  1 win & 2 nominations.           0   \n",
      "4  tt0212513  Skeletons in the Closet                  1 win.           0   \n",
      "5  tt0235280       Cheerleader Ninjas           1 nomination.           0   \n",
      "\n",
      "   Awards_Nominated Oscar_Won Prime_Won Golden_Globe_Won BAFTA_Won  \\\n",
      "3                 2         0         0                0         0   \n",
      "4                 0         0         0                0         0   \n",
      "5                 0         0         0                0         0   \n",
      "\n",
      "  Prime_Nominated Oscar_Nominated Golden_Globe_Nominated BAFTA_Nominated  \n",
      "3               0               0                      0               0  \n",
      "4               0               0                      0               0  \n",
      "5               0               0                      0               0  \n"
     ]
    }
   ],
   "source": [
    "# write to csv\n",
    "print(df.head(3))\n",
    "df.to_csv('Ass3_output/Q4_P1_output.csv',index=False,header=True)"
   ]
  },
  {
   "cell_type": "code",
   "execution_count": null,
   "metadata": {
    "collapsed": true
   },
   "outputs": [],
   "source": []
  }
 ],
 "metadata": {
  "anaconda-cloud": {},
  "kernelspec": {
   "display_name": "Python [conda root]",
   "language": "python",
   "name": "conda-root-py"
  },
  "language_info": {
   "codemirror_mode": {
    "name": "ipython",
    "version": 3
   },
   "file_extension": ".py",
   "mimetype": "text/x-python",
   "name": "python",
   "nbconvert_exporter": "python",
   "pygments_lexer": "ipython3",
   "version": "3.5.2"
  }
 },
 "nbformat": 4,
 "nbformat_minor": 1
}
