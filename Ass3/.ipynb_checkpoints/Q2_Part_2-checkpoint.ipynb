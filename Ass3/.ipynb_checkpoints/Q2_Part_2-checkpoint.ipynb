{
 "cells": [
  {
   "cell_type": "markdown",
   "metadata": {},
   "source": [
    "# Question 2 Part 2\n",
    "- Use 'employee_compensation' data set\n",
    "- Data contains fiscal and calendar year information. Same employee details exist twice in the dataset. Filter data by calendar year and find average salary (you might have to find average for each of the columns for every employee. Eg. Average of Total Benefits, Average of total compensation etc.) for every employee\n",
    "- Now, find the people whose overtime salary is greater than 5% of salaries (salaries refers to ’Salaries' column)\n",
    "- For each ‘Job Family’ these people are associated with, calculate the percentage of total benefits with respect to total compensation (so for each job family you have to calculate average total benefits and average total compensation). Create a new column to hold the percentage value\n",
    "- Display the top 5 Job Families according to this percentage value using df.head()\n",
    "- Write the output (jobs and percentage value) to a csv"
   ]
  },
  {
   "cell_type": "code",
   "execution_count": 19,
   "metadata": {
    "collapsed": true
   },
   "outputs": [],
   "source": [
    "import pandas as pd"
   ]
  },
  {
   "cell_type": "code",
   "execution_count": 20,
   "metadata": {
    "collapsed": false
   },
   "outputs": [],
   "source": [
    "# select useful columns by caldendar year\n",
    "df = pd.read_csv('Data/employee_compensation.csv')\n",
    "df = df[df['Year Type'] == 'Calendar']\n",
    "cols = ['Job Family', 'Employee Identifier' , 'Salaries', 'Overtime', 'Total Benefits', 'Total Compensation']\n",
    "df = df[cols]\n",
    "#df.head(3)"
   ]
  },
  {
   "cell_type": "code",
   "execution_count": 21,
   "metadata": {
    "collapsed": false
   },
   "outputs": [],
   "source": [
    "# calculate averages\n",
    "df = df.groupby(['Job Family', 'Employee Identifier'], as_index=False).mean()\n",
    "#df.head(3)"
   ]
  },
  {
   "cell_type": "code",
   "execution_count": 22,
   "metadata": {
    "collapsed": false
   },
   "outputs": [],
   "source": [
    "# find employees whose overtime > 5% of salaries\n",
    "df = employee_ave[employee_ave['Overtime'] > employee_ave['Salaries']*0.05]\n",
    "#df.head(3)"
   ]
  },
  {
   "cell_type": "code",
   "execution_count": 23,
   "metadata": {
    "collapsed": false
   },
   "outputs": [],
   "source": [
    "# find average of Total Benefits and Total Compensation\n",
    "cols = ['Job Family', 'Total Benefits', 'Total Compensation']\n",
    "df = df[cols].groupby(['Job Family'], as_index=False).mean()\n",
    "#df.head(4)"
   ]
  },
  {
   "cell_type": "code",
   "execution_count": 24,
   "metadata": {
    "collapsed": false
   },
   "outputs": [],
   "source": [
    "df['Percentage_Total_Benefit'] = df['Total Benefits'] / df['Total Compensation'] * 100\n",
    "output = df.sort_values(by='Percentage_Total_Benefit', ascending=False)\n",
    "#output.head(3)"
   ]
  },
  {
   "cell_type": "code",
   "execution_count": 25,
   "metadata": {
    "collapsed": false
   },
   "outputs": [
    {
     "ename": "SyntaxError",
     "evalue": "EOL while scanning string literal (<ipython-input-25-c8159eb56851>, line 3)",
     "output_type": "error",
     "traceback": [
      "\u001b[0;36m  File \u001b[0;32m\"<ipython-input-25-c8159eb56851>\"\u001b[0;36m, line \u001b[0;32m3\u001b[0m\n\u001b[0;31m    output.to_csv('Ass3_output/Q2_P2_output.csv,index=False,header=True)\u001b[0m\n\u001b[0m                                                                        ^\u001b[0m\n\u001b[0;31mSyntaxError\u001b[0m\u001b[0;31m:\u001b[0m EOL while scanning string literal\n"
     ]
    }
   ],
   "source": [
    "# write to csv\n",
    "print(output.head(3))\n",
    "output.to_csv('Ass3_output/Q2_P2_output.csv',index=False,header=True)"
   ]
  },
  {
   "cell_type": "code",
   "execution_count": null,
   "metadata": {
    "collapsed": true
   },
   "outputs": [],
   "source": []
  },
  {
   "cell_type": "code",
   "execution_count": null,
   "metadata": {
    "collapsed": true
   },
   "outputs": [],
   "source": []
  },
  {
   "cell_type": "code",
   "execution_count": null,
   "metadata": {
    "collapsed": true
   },
   "outputs": [],
   "source": []
  },
  {
   "cell_type": "code",
   "execution_count": null,
   "metadata": {
    "collapsed": true
   },
   "outputs": [],
   "source": []
  }
 ],
 "metadata": {
  "anaconda-cloud": {},
  "kernelspec": {
   "display_name": "Python [conda root]",
   "language": "python",
   "name": "conda-root-py"
  },
  "language_info": {
   "codemirror_mode": {
    "name": "ipython",
    "version": 3
   },
   "file_extension": ".py",
   "mimetype": "text/x-python",
   "name": "python",
   "nbconvert_exporter": "python",
   "pygments_lexer": "ipython3",
   "version": "3.5.2"
  }
 },
 "nbformat": 4,
 "nbformat_minor": 1
}
