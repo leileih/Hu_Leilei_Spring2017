{
 "cells": [
  {
   "cell_type": "markdown",
   "metadata": {},
   "source": [
    "# Question 3 Part 1\n",
    "- Use ‘cricket_matches’ data set\n",
    "- Calculate the average score for each team which host the game and win the game\n",
    "- Remember that if a team hosts a game and wins the game, their score can be innings_1 runs or innings_2 runs. You have to check if the host team won the game, check which innings they played in (innings_1 or innings_2), and take the runs scored in that innings. The final answer is the average score of each team satisfying the above condition\n",
    "- Display a few rows of the output use df.head()\n",
    "- Generate a csv output"
   ]
  },
  {
   "cell_type": "code",
   "execution_count": 15,
   "metadata": {
    "collapsed": true
   },
   "outputs": [],
   "source": [
    "import pandas as pd"
   ]
  },
  {
   "cell_type": "code",
   "execution_count": 16,
   "metadata": {
    "collapsed": false
   },
   "outputs": [],
   "source": [
    "# select teams host the game and win the game\n",
    "df = pd.read_csv('Data/cricket_matches.csv')\n",
    "df = df[df['home'] == df['winner']]\n",
    "#df.head(3)"
   ]
  },
  {
   "cell_type": "code",
   "execution_count": 17,
   "metadata": {
    "collapsed": false
   },
   "outputs": [],
   "source": [
    "# select columns used\n",
    "cols = ['winner', 'innings1' , 'innings2', 'innings1_runs', 'innings2_runs']\n",
    "df = df[cols]\n",
    "#df.head(3)"
   ]
  },
  {
   "cell_type": "code",
   "execution_count": 18,
   "metadata": {
    "collapsed": true
   },
   "outputs": [],
   "source": [
    "# find which innings they played in\n",
    "def innings_in(row):\n",
    "    if row['winner'] == row['innings1']:\n",
    "        return row['innings1_runs']\n",
    "    else:\n",
    "        return row['innings2_runs']"
   ]
  },
  {
   "cell_type": "code",
   "execution_count": 19,
   "metadata": {
    "collapsed": false
   },
   "outputs": [],
   "source": [
    "# drop NaNs and add Score column\n",
    "df['Score'] = df.apply(innings_in, axis=1)\n",
    "#df.head(3)"
   ]
  },
  {
   "cell_type": "code",
   "execution_count": 20,
   "metadata": {
    "collapsed": false
   },
   "outputs": [],
   "source": [
    "# select useful data columns\n",
    "cols = ['winner', 'Score']\n",
    "df= df[cols]\n",
    "#df.head(3)"
   ]
  },
  {
   "cell_type": "code",
   "execution_count": 21,
   "metadata": {
    "collapsed": false
   },
   "outputs": [],
   "source": [
    "# calculate average scores of each team\n",
    "output = df.groupby(['winner'], as_index=False).mean()\n",
    "#output.head(3)"
   ]
  },
  {
   "cell_type": "code",
   "execution_count": 22,
   "metadata": {
    "collapsed": false
   },
   "outputs": [
    {
     "name": "stdout",
     "output_type": "stream",
     "text": [
      "               winner       Score\n",
      "0     Abahani Limited  172.000000\n",
      "1  Abbottabad Falcons  139.454545\n",
      "2   Abbottabad Region  182.666667\n"
     ]
    }
   ],
   "source": [
    "# write to csv\n",
    "print(output.head(3))\n",
    "output.to_csv('Ass3_output/Q3_P1_output.csv',index=False,header=True)"
   ]
  },
  {
   "cell_type": "code",
   "execution_count": null,
   "metadata": {
    "collapsed": true
   },
   "outputs": [],
   "source": []
  }
 ],
 "metadata": {
  "anaconda-cloud": {},
  "kernelspec": {
   "display_name": "Python [conda root]",
   "language": "python",
   "name": "conda-root-py"
  },
  "language_info": {
   "codemirror_mode": {
    "name": "ipython",
    "version": 3
   },
   "file_extension": ".py",
   "mimetype": "text/x-python",
   "name": "python",
   "nbconvert_exporter": "python",
   "pygments_lexer": "ipython3",
   "version": "3.5.2"
  }
 },
 "nbformat": 4,
 "nbformat_minor": 1
}
