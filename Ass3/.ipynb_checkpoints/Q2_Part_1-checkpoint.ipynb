{
 "cells": [
  {
   "cell_type": "markdown",
   "metadata": {},
   "source": [
    "# Question 2 Part 1\n",
    "- Use 'employee_compensation' data set\n",
    "- Find out the highest paid departments in each organization group by calculating mean of total compensation for every department\n",
    "- Output should contain the organization group and the departments in each organization group with the total compensation from highest to lowest value\n",
    "- Display a few rows of the output use df.head()\n",
    "- Generate a csv output"
   ]
  },
  {
   "cell_type": "code",
   "execution_count": 1,
   "metadata": {
    "collapsed": true
   },
   "outputs": [],
   "source": [
    "import pandas as pd"
   ]
  },
  {
   "cell_type": "code",
   "execution_count": 2,
   "metadata": {
    "collapsed": false
   },
   "outputs": [
    {
     "data": {
      "text/html": [
       "<div>\n",
       "<table border=\"1\" class=\"dataframe\">\n",
       "  <thead>\n",
       "    <tr style=\"text-align: right;\">\n",
       "      <th></th>\n",
       "      <th>Organization Group</th>\n",
       "      <th>Department</th>\n",
       "      <th>Total Compensation</th>\n",
       "    </tr>\n",
       "  </thead>\n",
       "  <tbody>\n",
       "    <tr>\n",
       "      <th>0</th>\n",
       "      <td>Public Works, Transportation &amp; Commerce</td>\n",
       "      <td>Airport Commission</td>\n",
       "      <td>143916.66</td>\n",
       "    </tr>\n",
       "    <tr>\n",
       "      <th>1</th>\n",
       "      <td>Community Health</td>\n",
       "      <td>Public Health</td>\n",
       "      <td>107914.16</td>\n",
       "    </tr>\n",
       "    <tr>\n",
       "      <th>2</th>\n",
       "      <td>Human Welfare &amp; Neighborhood Development</td>\n",
       "      <td>Department of the Status of Women</td>\n",
       "      <td>267.28</td>\n",
       "    </tr>\n",
       "    <tr>\n",
       "      <th>3</th>\n",
       "      <td>General Administration &amp; Finance</td>\n",
       "      <td>Human Resources</td>\n",
       "      <td>2519.13</td>\n",
       "    </tr>\n",
       "  </tbody>\n",
       "</table>\n",
       "</div>"
      ],
      "text/plain": [
       "                         Organization Group  \\\n",
       "0   Public Works, Transportation & Commerce   \n",
       "1                          Community Health   \n",
       "2  Human Welfare & Neighborhood Development   \n",
       "3          General Administration & Finance   \n",
       "\n",
       "                          Department  Total Compensation  \n",
       "0                 Airport Commission           143916.66  \n",
       "1                      Public Health           107914.16  \n",
       "2  Department of the Status of Women              267.28  \n",
       "3                    Human Resources             2519.13  "
      ]
     },
     "execution_count": 2,
     "metadata": {},
     "output_type": "execute_result"
    }
   ],
   "source": [
    "# select needed columns \n",
    "df = pd.read_csv('Data/employee_compensation.csv')\n",
    "cols = ['Organization Group', 'Department', 'Total Compensation']\n",
    "df = df[cols]\n",
    "df.head(3)"
   ]
  },
  {
   "cell_type": "code",
   "execution_count": 3,
   "metadata": {
    "collapsed": false
   },
   "outputs": [
    {
     "data": {
      "text/html": [
       "<div>\n",
       "<table border=\"1\" class=\"dataframe\">\n",
       "  <thead>\n",
       "    <tr style=\"text-align: right;\">\n",
       "      <th></th>\n",
       "      <th>Organization Group</th>\n",
       "      <th>Department</th>\n",
       "      <th>Total Compensation</th>\n",
       "    </tr>\n",
       "  </thead>\n",
       "  <tbody>\n",
       "    <tr>\n",
       "      <th>0</th>\n",
       "      <td>Community Health</td>\n",
       "      <td>Public Health</td>\n",
       "      <td>96190.190140</td>\n",
       "    </tr>\n",
       "    <tr>\n",
       "      <th>1</th>\n",
       "      <td>Culture &amp; Recreation</td>\n",
       "      <td>Academy of Sciences</td>\n",
       "      <td>107319.727692</td>\n",
       "    </tr>\n",
       "    <tr>\n",
       "      <th>2</th>\n",
       "      <td>Culture &amp; Recreation</td>\n",
       "      <td>Arts Commission</td>\n",
       "      <td>94339.597388</td>\n",
       "    </tr>\n",
       "    <tr>\n",
       "      <th>3</th>\n",
       "      <td>Culture &amp; Recreation</td>\n",
       "      <td>Asian Art Museum</td>\n",
       "      <td>71401.520060</td>\n",
       "    </tr>\n",
       "  </tbody>\n",
       "</table>\n",
       "</div>"
      ],
      "text/plain": [
       "     Organization Group           Department  Total Compensation\n",
       "0      Community Health        Public Health        96190.190140\n",
       "1  Culture & Recreation  Academy of Sciences       107319.727692\n",
       "2  Culture & Recreation      Arts Commission        94339.597388\n",
       "3  Culture & Recreation     Asian Art Museum        71401.520060"
      ]
     },
     "execution_count": 3,
     "metadata": {},
     "output_type": "execute_result"
    }
   ],
   "source": [
    "# calculate mean of total compensation for every department\n",
    "output = df.groupby(['Organization Group','Department'],as_index=False).mean()\n",
    "output.head(3)"
   ]
  },
  {
   "cell_type": "code",
   "execution_count": 4,
   "metadata": {
    "collapsed": false
   },
   "outputs": [
    {
     "data": {
      "text/html": [
       "<div>\n",
       "<table border=\"1\" class=\"dataframe\">\n",
       "  <thead>\n",
       "    <tr style=\"text-align: right;\">\n",
       "      <th></th>\n",
       "      <th>Organization Group</th>\n",
       "      <th>Department</th>\n",
       "      <th>Total Compensation</th>\n",
       "    </tr>\n",
       "  </thead>\n",
       "  <tbody>\n",
       "    <tr>\n",
       "      <th>55</th>\n",
       "      <td>Public Works, Transportation &amp; Commerce</td>\n",
       "      <td>Port</td>\n",
       "      <td>112139.680017</td>\n",
       "    </tr>\n",
       "    <tr>\n",
       "      <th>46</th>\n",
       "      <td>Public Works, Transportation &amp; Commerce</td>\n",
       "      <td>Department of Building Inspection</td>\n",
       "      <td>112051.615182</td>\n",
       "    </tr>\n",
       "    <tr>\n",
       "      <th>54</th>\n",
       "      <td>Public Works, Transportation &amp; Commerce</td>\n",
       "      <td>PUC Water Department</td>\n",
       "      <td>109806.587567</td>\n",
       "    </tr>\n",
       "    <tr>\n",
       "      <th>53</th>\n",
       "      <td>Public Works, Transportation &amp; Commerce</td>\n",
       "      <td>PUC Wastewater Enterprise</td>\n",
       "      <td>108963.589786</td>\n",
       "    </tr>\n",
       "  </tbody>\n",
       "</table>\n",
       "</div>"
      ],
      "text/plain": [
       "                         Organization Group  \\\n",
       "55  Public Works, Transportation & Commerce   \n",
       "46  Public Works, Transportation & Commerce   \n",
       "54  Public Works, Transportation & Commerce   \n",
       "53  Public Works, Transportation & Commerce   \n",
       "\n",
       "                           Department  Total Compensation  \n",
       "55                               Port       112139.680017  \n",
       "46  Department of Building Inspection       112051.615182  \n",
       "54               PUC Water Department       109806.587567  \n",
       "53          PUC Wastewater Enterprise       108963.589786  "
      ]
     },
     "execution_count": 4,
     "metadata": {},
     "output_type": "execute_result"
    }
   ],
   "source": [
    "# sort the department of each organization by average total compensation\n",
    "output = output.sort_values(['Organization Group','Total Compensation'], ascending = False)\n",
    "output.head(3)"
   ]
  },
  {
   "cell_type": "code",
   "execution_count": 5,
   "metadata": {
    "collapsed": true
   },
   "outputs": [],
   "source": [
    "print(output.head(3))\n",
    "output.to_csv('Ass3_output/Q2_P1_output.csv',index=False,header=True)"
   ]
  },
  {
   "cell_type": "code",
   "execution_count": null,
   "metadata": {
    "collapsed": true
   },
   "outputs": [],
   "source": []
  },
  {
   "cell_type": "code",
   "execution_count": null,
   "metadata": {
    "collapsed": true
   },
   "outputs": [],
   "source": []
  },
  {
   "cell_type": "code",
   "execution_count": null,
   "metadata": {
    "collapsed": true
   },
   "outputs": [],
   "source": []
  },
  {
   "cell_type": "code",
   "execution_count": null,
   "metadata": {
    "collapsed": true
   },
   "outputs": [],
   "source": []
  },
  {
   "cell_type": "code",
   "execution_count": null,
   "metadata": {
    "collapsed": true
   },
   "outputs": [],
   "source": []
  },
  {
   "cell_type": "code",
   "execution_count": null,
   "metadata": {
    "collapsed": true
   },
   "outputs": [],
   "source": []
  },
  {
   "cell_type": "code",
   "execution_count": null,
   "metadata": {
    "collapsed": true
   },
   "outputs": [],
   "source": []
  },
  {
   "cell_type": "code",
   "execution_count": null,
   "metadata": {
    "collapsed": true
   },
   "outputs": [],
   "source": []
  }
 ],
 "metadata": {
  "kernelspec": {
   "display_name": "Python [conda root]",
   "language": "python",
   "name": "conda-root-py"
  },
  "language_info": {
   "codemirror_mode": {
    "name": "ipython",
    "version": 3
   },
   "file_extension": ".py",
   "mimetype": "text/x-python",
   "name": "python",
   "nbconvert_exporter": "python",
   "pygments_lexer": "ipython3",
   "version": "3.5.2"
  }
 },
 "nbformat": 4,
 "nbformat_minor": 1
}
