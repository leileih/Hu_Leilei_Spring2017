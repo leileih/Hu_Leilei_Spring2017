{
 "cells": [
  {
   "cell_type": "markdown",
   "metadata": {},
   "source": [
    "## Question 1\n",
    "- Learn and understand Zipf’s Law. \n",
    "- Pick any file (or files) in NLTK package. \n",
    "- Prove if Zipf’s Law works in Natural Language or not. \n",
    "- REQUIREMNTS: (Must Do)\n",
    "    - Use ’glob’ to open and read file. If read multiple files use LOOP to achieve.\n",
    "    - Create at least one function and one lambda function.\n",
    "    - Save your data as an CSV file contains (Word, Rank, Frequency) with TITLE and Sort it by RANK.  Open your CSV file, generate a log-log figure according to the data you saved.\n",
    "    - Write a conclusion at the end of your code base on your figure\n",
    "- (Optional) Use ‘matplotlib’ to generate a log-log figure in your code."
   ]
  },
  {
   "cell_type": "code",
   "execution_count": 55,
   "metadata": {
    "collapsed": true
   },
   "outputs": [],
   "source": [
    "import nltk"
   ]
  },
  {
   "cell_type": "code",
   "execution_count": 56,
   "metadata": {
    "collapsed": true
   },
   "outputs": [],
   "source": [
    "import glob"
   ]
  },
  {
   "cell_type": "code",
   "execution_count": 57,
   "metadata": {
    "collapsed": true
   },
   "outputs": [],
   "source": [
    "import string\n",
    "from collections import Counter"
   ]
  },
  {
   "cell_type": "code",
   "execution_count": 58,
   "metadata": {
    "collapsed": true
   },
   "outputs": [],
   "source": [
    "def wordCountAndTotal(path):\n",
    "    files = glob.glob(path)\n",
    "    wordCounter = Counter() # word cound\n",
    "    total = 0 # total words\n",
    "    for file in files:\n",
    "        with open(file, 'r', encoding='utf-8', errors='ignore') as f: # avoid f.close()\n",
    "            for word in map(lambda w: w.strip(string.punctuation).lower(), f.read().split()):\n",
    "                if word != '':\n",
    "                    total += 1\n",
    "                    wordCounter.update([word])\n",
    "    return wordCounter, total"
   ]
  },
  {
   "cell_type": "code",
   "execution_count": 59,
   "metadata": {
    "collapsed": true
   },
   "outputs": [],
   "source": [
    "import csv\n",
    "import math"
   ]
  },
  {
   "cell_type": "code",
   "execution_count": 60,
   "metadata": {
    "collapsed": true
   },
   "outputs": [],
   "source": [
    "def writeCSVFile(words, log_total, path = 'csv_output/Zipf.csv'):\n",
    "    with open(path, 'w') as outcsv:\n",
    "        writer = csv.DictWriter(outcsv, fieldnames = [\"WORD\",\"RANK\",\"FREQUENCY\",\"LOG(RANK*FREQUENCY)\",\"LOG(TOTAL)\"])\n",
    "        writer.writeheader()\n",
    "        rank = 1;\n",
    "        for word,freq in words.most_common():\n",
    "            writer.writerow({'WORD': word,'RANK': str(rank),'FREQUENCY': str(freq),'LOG(RANK*FREQUENCY)': str(math.log(rank*freq)),'LOG(TOTAL)': log_total})\n",
    "            rank += 1"
   ]
  },
  {
   "cell_type": "code",
   "execution_count": 61,
   "metadata": {
    "collapsed": false
   },
   "outputs": [
    {
     "name": "stdout",
     "output_type": "stream",
     "text": [
      "num of total words: 241434\n"
     ]
    }
   ],
   "source": [
    "read_path = 'nltk_files/*.txt'\n",
    "wordCounter, total = wordCountAndTotal(read_path)\n",
    "writeCSVFile(wordCounter, str(math.log(total)))\n",
    "print('num of total words:',total)"
   ]
  },
  {
   "cell_type": "markdown",
   "metadata": {},
   "source": [
    "# Conclusion\n",
    "In this chat, x-axis(rank) and y-axis(frequency) shows a inverse line, it indicates y(frequency)= -x(rank)+C(constant)"
   ]
  },
  {
   "cell_type": "code",
   "execution_count": null,
   "metadata": {
    "collapsed": true
   },
   "outputs": [],
   "source": []
  },
  {
   "cell_type": "code",
   "execution_count": null,
   "metadata": {
    "collapsed": true
   },
   "outputs": [],
   "source": []
  },
  {
   "cell_type": "code",
   "execution_count": null,
   "metadata": {
    "collapsed": true
   },
   "outputs": [],
   "source": []
  },
  {
   "cell_type": "code",
   "execution_count": null,
   "metadata": {
    "collapsed": true
   },
   "outputs": [],
   "source": []
  },
  {
   "cell_type": "code",
   "execution_count": null,
   "metadata": {
    "collapsed": true
   },
   "outputs": [],
   "source": []
  },
  {
   "cell_type": "code",
   "execution_count": null,
   "metadata": {
    "collapsed": true
   },
   "outputs": [],
   "source": []
  },
  {
   "cell_type": "code",
   "execution_count": null,
   "metadata": {
    "collapsed": true
   },
   "outputs": [],
   "source": []
  },
  {
   "cell_type": "code",
   "execution_count": null,
   "metadata": {
    "collapsed": true
   },
   "outputs": [],
   "source": []
  },
  {
   "cell_type": "code",
   "execution_count": null,
   "metadata": {
    "collapsed": true
   },
   "outputs": [],
   "source": []
  },
  {
   "cell_type": "code",
   "execution_count": null,
   "metadata": {
    "collapsed": true
   },
   "outputs": [],
   "source": []
  },
  {
   "cell_type": "code",
   "execution_count": null,
   "metadata": {
    "collapsed": true
   },
   "outputs": [],
   "source": []
  },
  {
   "cell_type": "code",
   "execution_count": null,
   "metadata": {
    "collapsed": true
   },
   "outputs": [],
   "source": []
  },
  {
   "cell_type": "code",
   "execution_count": null,
   "metadata": {
    "collapsed": true
   },
   "outputs": [],
   "source": []
  },
  {
   "cell_type": "code",
   "execution_count": null,
   "metadata": {
    "collapsed": true
   },
   "outputs": [],
   "source": []
  },
  {
   "cell_type": "code",
   "execution_count": null,
   "metadata": {
    "collapsed": true
   },
   "outputs": [],
   "source": []
  }
 ],
 "metadata": {
  "anaconda-cloud": {},
  "kernelspec": {
   "display_name": "Python [conda root]",
   "language": "python",
   "name": "conda-root-py"
  },
  "language_info": {
   "codemirror_mode": {
    "name": "ipython",
    "version": 3
   },
   "file_extension": ".py",
   "mimetype": "text/x-python",
   "name": "python",
   "nbconvert_exporter": "python",
   "pygments_lexer": "ipython3",
   "version": "3.5.2"
  }
 },
 "nbformat": 4,
 "nbformat_minor": 1
}
