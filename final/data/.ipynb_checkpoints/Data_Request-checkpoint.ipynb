{
 "cells": [
  {
   "cell_type": "markdown",
   "metadata": {},
   "source": [
    "Use Api"
   ]
  },
  {
   "cell_type": "code",
   "execution_count": 68,
   "metadata": {
    "collapsed": true
   },
   "outputs": [],
   "source": [
    "import requests\n",
    "import csv\n",
    "import os\n",
    "import json\n",
    "from pathlib import Path\n",
    "import pandas as pd"
   ]
  },
  {
   "cell_type": "code",
   "execution_count": 69,
   "metadata": {
    "collapsed": true
   },
   "outputs": [],
   "source": [
    "# key{5ae81cf8e9f845f1a4426586b85e8ba8}\n",
    "api_key = os.getenv('api_key')\n",
    "#kaggle_info = os.getenv('kaggle_info')\n",
    "# print(article_search_key)"
   ]
  },
  {
   "cell_type": "code",
   "execution_count": 66,
   "metadata": {
    "collapsed": false
   },
   "outputs": [],
   "source": [
    "# The direct link to the Kaggle data set\n",
    "#data_url = 'http://www.kaggle.com/c/digit-recognizer/download/train.csv'\n",
    "#data_url = 'https://www.kaggle.com/aaron7sun/stocknews/download/RedditNews.csv'\n",
    "\n",
    "# The local path where the data set is saved.\n",
    "#local_filename = \"RedditNews.csv\"\n",
    "\n",
    "# Kaggle Username and Password\n",
    "#kaggle_info = {'UserName': \"leileih\", 'Password': \"HLL$/9303\"}\n",
    "\n",
    "# Attempts to download the CSV file. Gets rejected because we are not logged in.\n",
    "#r = requests.get(data_url)\n",
    "\n",
    "# Login to Kaggle and retrieve the data.\n",
    "#r = requests.post(r.url, data = kaggle_info, stream=True)\n",
    "\n",
    "# Writes the data to a local file one chunk at a time.\n",
    "# f = open(local_filename, 'w')\n",
    "# for chunk in r.iter_content(chunk_size = 512 * 1024): # Reads 512KB at a time into memory\n",
    "#     if chunk: # filter out keep-alive new chunks\n",
    "#         f.write(chunk)\n",
    "# f.close()"
   ]
  },
  {
   "cell_type": "code",
   "execution_count": 75,
   "metadata": {
    "collapsed": false
   },
   "outputs": [],
   "source": [
    "# import time # in case ip restriction\n",
    "\n",
    "# p = Path(os.getcwd()) # pwd\n",
    "# data_path = str(p.parent) + '/data/request/'\n",
    "# page = 0\n",
    "\n",
    "# while page < 101:\n",
    "#     #raw_data = requests.get('http://api.nytimes.com/svc/search/v2/articlesearch.json?api-key='+article_search_key+'&begin_date=20150101&end_date=20161231&q=Boston&page='+str(page))\n",
    "#     raw_data = requests.get('https://www.quandl.com/api/v3/datasets/WIKI/AAPL.json?&api_key='+api_key+'&page='+str(page))\n",
    "#     with open(data_path+str(page)+'_myData.txt', 'w') as f:\n",
    "#         f.write(json.dumps(raw_data.json()))\n",
    "#     page += 1\n",
    "#     time.sleep(2)"
   ]
  },
  {
   "cell_type": "code",
   "execution_count": null,
   "metadata": {
    "collapsed": true
   },
   "outputs": [],
   "source": [
    "import time # in case ip restriction\n",
    "\n",
    "p = Path(os.getcwd()) # pwd\n",
    "data_path = str(p.parent) + '/data/request/'\n",
    "page = 0\n",
    "\n",
    "while page < 101:\n",
    "    raw_data = requests.get('https://www.quandl.com/api/v3/datasets/WIKI/AAPL.json?api-key='+api_key+'&page='+str(page))\n",
    "    with open(data_path+str(page)+'_myData.txt', 'w') as f:\n",
    "        f.write(json.dumps(raw_data.json()))\n",
    "    page += 1\n",
    "    time.sleep(2)"
   ]
  },
  {
   "cell_type": "code",
   "execution_count": null,
   "metadata": {
    "collapsed": true
   },
   "outputs": [],
   "source": []
  },
  {
   "cell_type": "code",
   "execution_count": null,
   "metadata": {
    "collapsed": true
   },
   "outputs": [],
   "source": []
  },
  {
   "cell_type": "code",
   "execution_count": null,
   "metadata": {
    "collapsed": true
   },
   "outputs": [],
   "source": []
  },
  {
   "cell_type": "code",
   "execution_count": null,
   "metadata": {
    "collapsed": true
   },
   "outputs": [],
   "source": []
  }
 ],
 "metadata": {
  "anaconda-cloud": {},
  "kernelspec": {
   "display_name": "Python [conda root]",
   "language": "python",
   "name": "conda-root-py"
  },
  "language_info": {
   "codemirror_mode": {
    "name": "ipython",
    "version": 3
   },
   "file_extension": ".py",
   "mimetype": "text/x-python",
   "name": "python",
   "nbconvert_exporter": "python",
   "pygments_lexer": "ipython3",
   "version": "3.5.2"
  }
 },
 "nbformat": 4,
 "nbformat_minor": 1
}
