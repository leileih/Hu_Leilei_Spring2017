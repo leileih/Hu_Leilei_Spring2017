{
 "cells": [
  {
   "cell_type": "markdown",
   "metadata": {},
   "source": [
    "## Final Project _ End of Day Stock Prices Analysis\n",
    "In this project, I explore and do some analysis on stock. I picked AAPL(Apple Inc.) to do some simple visualization and calcualte its moving average, EMA, DIF, DEM and MACD to analyze the trend of Apple stock."
   ]
  },
  {
   "cell_type": "markdown",
   "metadata": {},
   "source": [
    "### Data set\n",
    "Data used in this priject is requested from Quandl(https://blog.quandl.com/api-for-stock-data). And then download it to data floder\n",
    "    - raw_data = request.urlopen('https://www.quandl.com/api/v3/datasets/EOD/AAPL.csv?api_key='+api_key)\n",
    "\n",
    "Data Format\n",
    "\n",
    "Date\tOpen\tHigh\tLow\tClose\tVolume\tDividend\tSplit\tAdj_Open\tAdj_High\tAdj_Low\tAdj_Close\tAdj_Volume\n",
    "0\t2017-04-21\t142.44\t142.68\t141.85\t142.27\t17320928.0\t0.0\t1.0\t142.44\t142.68\t141.85\t142.27\t17320928.0\n",
    "1\t2017-04-20\t141.22\t142.92\t141.16\t142.44\t23319562.0\t0.0\t1.0\t141.22\t142.92\t141.16\t142.44\t23319562.0\n",
    "2\t2017-04-19\t141.88\t142.00\t140.45\t140.68\t17328375.0\t0.0\t1.0\t141.88\t142.00\t140.45\t140.68\t17328375.0"
   ]
  },
  {
   "cell_type": "markdown",
   "metadata": {},
   "source": [
    "### Analysis 1 - Calculate the moving average of Adj_Close and plot\n",
    "\"In statistics, a moving average (rolling average or running average) is a calculation to analyze data points by creating series of averages of different subsets of the full data set.\" -- Wiki\n",
    "\n",
    "In this part, I visualize Adj_Close and Volume and then calcualte moving average of Adj_Close.\n",
    "![alt](https://github.com/leileih/Hu_Leilei_Spring2017/blob/master/final/analysis/ana_1_output/Adj_Close.png?raw=true)\n",
    "![alt](https://github.com/leileih/Hu_Leilei_Spring2017/blob/master/final/analysis/ana_1_output/Volume.png?raw=true)\n",
    "![alt](https://github.com/leileih/Hu_Leilei_Spring2017/blob/master/final/analysis/ana_1_output/moving_average.png?raw=true)\n",
    "\n",
    "#### Conclusion\n",
    "Though Volume is noticeably volatile, Adj_Close and the moving average of Adj_Close shows that stock price of AAPL generally increases in past 2 years."
   ]
  },
  {
   "cell_type": "markdown",
   "metadata": {},
   "source": [
    "### Analysis 2 - Adj_Volume and its moving average in one plot\n",
    "   Generate volume bar chart and add its moving average in lines. if close price is greater than open price, the volume bar that day is green, otherwise, it's red.\n",
    "![alt](https://github.com/leileih/Hu_Leilei_Spring2017/blob/master/final/analysis/ana_2_output/volume+moving_average.png?raw=true)\n",
    "\n",
    "#### Conclusion\n",
    "This volume moving average plot shows the volums of AAPL is stable in these two years."
   ]
  },
  {
   "cell_type": "markdown",
   "metadata": {},
   "source": [
    "### Analysis 3 - EMA ,DIF, DEM, MACD\n",
    "- What is EMA?\n",
    "    - \"An exponential moving average (EMA) is a type of moving average that is similar to a simple moving average, except that more weight is given to the latest data. It's also known as the exponentially weighted moving average. This type of moving average reacts faster to recent price changes than a simple moving average.\"(investopedia.com)\n",
    "- DIF = EMA(close, 12) - EMA(close, 26)\n",
    "- DEM = EMA(DIF, 9)\n",
    "- MACD = (DIF - DEM) * 2\n",
    "![alt](https://github.com/leileih/Hu_Leilei_Spring2017/blob/master/final/analysis/ana_3_output/EMA.png?raw=true)\n",
    "![alt](https://github.com/leileih/Hu_Leilei_Spring2017/blob/master/final/analysis/ana_3_output/DIF+DEM+MACD.png?raw=true)\n",
    "\n",
    "#### Conclusion\n",
    "Same as MA, EMA shows this stock is increasing stable in these two years.\n",
    "MACD is a trading indicator used in technical analysis of stock prices, professional could obtain amount of information from it. From this 4-month chart, maybe it's not a good chance to buy the stock in this two period if you would like to sell it in nearly period."
   ]
  },
  {
   "cell_type": "code",
   "execution_count": null,
   "metadata": {
    "collapsed": true
   },
   "outputs": [],
   "source": []
  },
  {
   "cell_type": "code",
   "execution_count": null,
   "metadata": {
    "collapsed": true
   },
   "outputs": [],
   "source": []
  },
  {
   "cell_type": "code",
   "execution_count": null,
   "metadata": {
    "collapsed": true
   },
   "outputs": [],
   "source": []
  },
  {
   "cell_type": "code",
   "execution_count": null,
   "metadata": {
    "collapsed": true
   },
   "outputs": [],
   "source": []
  },
  {
   "cell_type": "code",
   "execution_count": null,
   "metadata": {
    "collapsed": true
   },
   "outputs": [],
   "source": []
  },
  {
   "cell_type": "code",
   "execution_count": null,
   "metadata": {
    "collapsed": true
   },
   "outputs": [],
   "source": []
  },
  {
   "cell_type": "code",
   "execution_count": null,
   "metadata": {
    "collapsed": true
   },
   "outputs": [],
   "source": []
  }
 ],
 "metadata": {
  "anaconda-cloud": {},
  "kernelspec": {
   "display_name": "Python [conda root]",
   "language": "python",
   "name": "conda-root-py"
  },
  "language_info": {
   "codemirror_mode": {
    "name": "ipython",
    "version": 3
   },
   "file_extension": ".py",
   "mimetype": "text/x-python",
   "name": "python",
   "nbconvert_exporter": "python",
   "pygments_lexer": "ipython3",
   "version": "3.5.2"
  }
 },
 "nbformat": 4,
 "nbformat_minor": 1
}
